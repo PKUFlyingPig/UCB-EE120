{
 "cells": [
  {
   "cell_type": "markdown",
   "metadata": {},
   "source": [
    "# EE 120 Lab 1: Introduction to Python for Signals and Systems\n",
    "\n",
    "v1 - Spring 2019: Dominic Carrano, Sukrit Arora, and Babak Ayazifar  \n",
    "v2 - Fall 2019: Dominic Carrano"
   ]
  },
  {
   "cell_type": "markdown",
   "metadata": {},
   "source": [
    "# iPython \"Labs\"?\n",
    "\n",
    "In the Spring 2019 semester, we added a new component to EE 120, iPython notebook labs. Essentially, they're just homework assignments though.\n",
    "\n",
    "To better prepare you for future endeavors in these areas, we want to give you exposure to real world applications of the material via Python (specifically, the Python scientific computing stack of numpy, scipy, and matplotlib all together in iPython notebooks), a popular tool in both industry and academia.\n",
    "\n",
    "The labs showcase algorithms and topics that are typically not directly covered in lecture, but that are fully comprehensible using the knowledge you've gained from class. Typically, we provide a \"Background\" section (and/or information within the actual questions) at the start of the lab explaining the topic in sufficient detail for you to complete the lab. In addition, there will typically be a \"References\" section at the end containing relevant links for exploring the topic further, as well as links we used in developing the labs, although these aren't required reading by any means.\n",
    "\n",
    "Generally, the format of any given lab will be:\n",
    "- Background\n",
    "- Questions\n",
    "- References\n",
    "\n",
    "Occasionally, questions will be marked as optional, in which case the question is not graded. Doing them will *not* earn you extra credit; they just serve as extra practice and examples.\n",
    "\n",
    "We have invested much time and effort into making these labs interesting and application-driven, and hope that you find them both informative and fun. We welcome and encourage any feedback you have on them - it's an invaluable source of data for us. We'll be releasing Google Forms after each submission deadline where you can provide us with anonymous feedback."
   ]
  },
  {
   "cell_type": "markdown",
   "metadata": {},
   "source": [
    "# Submitting The Notebooks\n",
    "\n",
    "In terms of what we expect from you to do in completing the labs: every place you're required to answer a question, whether it be in the form of writing code or interpreting plots/results that you generate, it will be marked with \"TODO\".\n",
    "\n",
    "When done, go to the notebook menu (under the jupyter logo) and click `File -> Download as -> PDF via LaTeX (.pdf)`. This is what you'll submit to Gradescope. If this gives you an error message, you can instead try `File -> Print Preview` and download that for submission."
   ]
  },
  {
   "cell_type": "markdown",
   "metadata": {},
   "source": [
    "# Q1: Intro to the Python Scientific Computing Stack [OPTIONAL] \n",
    "\n",
    "**For this problem, you're not required to write any code. Simply run all the cells and acquaint yourself with the functions and features that they showcase.**\n",
    "\n",
    "This question is optional, as many of you are likely familiar with the Python programming language from CS 61A and the basics of its scientific computing capabilities from EE 16AB. Nevertheless, if you'd like a refresher, feel free to run through the code cells in this question and play around with the features of the language and libraries to get (re)acquainted.\n",
    "\n",
    "This question was modified and adapted from [Berkeley Python Bootcamp 2013](https://github.com/profjsb/python-bootcamp), \n",
    "[Python for Signal Processing](http://link.springer.com/book/10.1007%2F978-3-319-01342-8), [EE 123](https://inst.eecs.berkeley.edu/~ee123/sp18/lab/lab0/python_tutorial.ipynb), and [EECS 126](https://inst.eecs.berkeley.edu/~ee126/sp18/LAB01.zip) iPython Notebook Tutorials."
   ]
  },
  {
   "cell_type": "markdown",
   "metadata": {},
   "source": [
    "### Running iPython Notebook Cells\n",
    "\n",
    "The ipython notebook is divided into cells. Each cell can contain texts, codes or html scripts. Running a non-code cell simply advances to the next cell. To run a code cell using Shift-Enter or pressing the play button in the toolbar above:"
   ]
  },
  {
   "cell_type": "code",
   "execution_count": null,
   "metadata": {
    "collapsed": false
   },
   "outputs": [],
   "source": [
    "1+2"
   ]
  },
  {
   "cell_type": "markdown",
   "metadata": {},
   "source": [
    "### Interrupting the kernel\n",
    "\n",
    "For debugging, often we would like to interupt the current running process. This can be done by pressing the stop button. \n",
    "\n",
    "When a processing is running, the circle on the right upper corner is filled. When idle, the circle is empty."
   ]
  },
  {
   "cell_type": "code",
   "execution_count": null,
   "metadata": {
    "collapsed": false
   },
   "outputs": [],
   "source": [
    "import time\n",
    "\n",
    "while(1):\n",
    "    print(\"error\")\n",
    "    time.sleep(1)"
   ]
  },
  {
   "cell_type": "markdown",
   "metadata": {},
   "source": [
    "### Restarting the kernels\n",
    "\n",
    "Interrupting sometimes does not work. You can reset the state by restarting the kernel. This is done by clicking Kernel/Restart or the Refresh button in the toolbar above."
   ]
  },
  {
   "cell_type": "markdown",
   "metadata": {},
   "source": [
    "### Saving the notebook\n",
    "\n",
    "To save your notebook, either select `\"File->Save and Checkpoint\"` or hit `Command-s` for Mac and `Ctrl-s` for Windows"
   ]
  },
  {
   "cell_type": "markdown",
   "metadata": {},
   "source": [
    "### Undoing\n",
    "\n",
    "To undo changes in each cell, hit `Command-z` for Mac and `Ctrl-z` for Windows.\n",
    "To undo `Delete Cell`, select `Edit->Undo Delete Cell`."
   ]
  },
  {
   "cell_type": "markdown",
   "metadata": {},
   "source": [
    "### Tab Completion\n",
    "\n",
    "One useful feature of iPython is tab completion "
   ]
  },
  {
   "cell_type": "code",
   "execution_count": null,
   "metadata": {
    "collapsed": false
   },
   "outputs": [],
   "source": [
    "one_plus_one = 1+1\n",
    "\n",
    "# type `one_` then hit TAB will auto-complete the variable\n",
    "print(one_plus_one)"
   ]
  },
  {
   "cell_type": "markdown",
   "metadata": {},
   "source": [
    "### Help Menu for Functions\n",
    "\n",
    "Another useful feature is the help command. Type any function followed by `?` returns a help window. Hit the `x` button to close it."
   ]
  },
  {
   "cell_type": "code",
   "execution_count": null,
   "metadata": {
    "collapsed": true
   },
   "outputs": [],
   "source": [
    "abs?"
   ]
  },
  {
   "cell_type": "markdown",
   "metadata": {},
   "source": [
    "### Other iPython Notebook navigation tips\n",
    "- To add a new cell, either select `\"Insert->Insert New Cell Below\"` or click the white plus button\n",
    "- You can change the cell mode from code to text in the pulldown menu. I use `Markdown` for text\n",
    "- You can change the texts in the `Markdown` cells by double-clicking them.\n",
    "- `Help->Keyboard Shortcuts` has a list of keyboard shortcuts"
   ]
  },
  {
   "cell_type": "markdown",
   "metadata": {},
   "source": [
    "### Libraries\n",
    "\n",
    "These are the libraries that we will be using in this class:\n",
    "    \n",
    "__Numpy__\n",
    "\n",
    "NumPy is the fundamental package for scientific computing with Python.\n",
    "\n",
    "__Scipy__\n",
    "\n",
    "The SciPy library is a collection of numerical algorithms and domain-specific toolboxes, including signal processing, optimization, statistics and much more.\n",
    "\n",
    "__matplotlib__\n",
    "\n",
    "matplotlib is a python 2D plotting library which produces publication quality figures in a variety of hardcopy formats and interactive environments across platforms.\n",
    "\n",
    "#### About Each\n",
    "\n",
    "numpy and matplotlib are both very systematic, in the sense that you're usually not calling one-off functions from them, but rather using them throughout your code, almost like a sort of sub-programming language inside Python. By the end of this semester, you'll be fairly well-seasoned in both. Scipy, on the other hand, is more of a collection of various useful functions that you'll look up when you need to do something really specific that numpy doesn't have, like digital filter design (see EE 123 for more) or some more complicated algorithms like k-means clustering (as you saw in EE 16B)."
   ]
  },
  {
   "cell_type": "markdown",
   "metadata": {},
   "source": [
    "### Importing\n",
    "\n",
    "To import a specific library `x`, simply type `import x`.\n",
    "\n",
    "To access the library function `f`, type `x.f`.\n",
    "\n",
    "If you want to change the library name to `y`, type `import x as y`."
   ]
  },
  {
   "cell_type": "code",
   "execution_count": null,
   "metadata": {
    "collapsed": false
   },
   "outputs": [],
   "source": [
    "# CONVENTION: \"import numpy as np\" when importing numpy, it lets us use \"np\" as shorthand!\n",
    "\n",
    "# You could just as easily do \"import numpy as derp\", but then you'd have all this weird code\n",
    "# like \"derp.convolve(x, h, mode='full')\" - the standard convention is to use \"np\" for numpy\n",
    "import numpy as np \n",
    "np.ones((3,1))"
   ]
  },
  {
   "cell_type": "markdown",
   "metadata": {},
   "source": [
    "## Data Types"
   ]
  },
  {
   "cell_type": "markdown",
   "metadata": {},
   "source": [
    "### Floats and Integers\n",
    "\n",
    "Unlike MATLAB, there is a difference between the `int` and `float` types in Python 2.  Mainly, integer division returns the floor in Python 2. However, in Python 3 there is no floor, but it is always good to check this when debugging!"
   ]
  },
  {
   "cell_type": "code",
   "execution_count": null,
   "metadata": {
    "collapsed": false
   },
   "outputs": [],
   "source": [
    "1 / 4"
   ]
  },
  {
   "cell_type": "code",
   "execution_count": null,
   "metadata": {
    "collapsed": false
   },
   "outputs": [],
   "source": [
    "1 / 4.0"
   ]
  },
  {
   "cell_type": "markdown",
   "metadata": {},
   "source": [
    "### Strings\n",
    "\n",
    "Unlike MATLAB/C, double quotes (\"I am double quoted!\") and single quotes ('I, however, am single quoted') are the same thing. Both represent strings. `'+'` concatenates strings"
   ]
  },
  {
   "cell_type": "code",
   "execution_count": null,
   "metadata": {
    "collapsed": false
   },
   "outputs": [],
   "source": [
    "\"EE \" + '120' # we can mix and match single and double quotes and Python won't care"
   ]
  },
  {
   "cell_type": "markdown",
   "metadata": {},
   "source": [
    "### Lists\n",
    "\n",
    "A list is a mutable array of data. That is we can change it after we create it. They can be created using square brackets []\n",
    "\n",
    "\n",
    "Important functions: \n",
    "- `'+'` appends lists. \n",
    "- `len(x)` to get length"
   ]
  },
  {
   "cell_type": "code",
   "execution_count": null,
   "metadata": {
    "collapsed": false
   },
   "outputs": [],
   "source": [
    "x = [\"EE\"] + [1, 2, 0]\n",
    "print(x)"
   ]
  },
  {
   "cell_type": "code",
   "execution_count": null,
   "metadata": {
    "collapsed": false
   },
   "outputs": [],
   "source": [
    "print(len(x))"
   ]
  },
  {
   "cell_type": "markdown",
   "metadata": {},
   "source": [
    "### Tuples\n",
    "\n",
    "A tuple is an immutable list. They can be created using round brackets (). \n",
    "They are usually used as inputs and outputs to functions."
   ]
  },
  {
   "cell_type": "code",
   "execution_count": null,
   "metadata": {
    "collapsed": false
   },
   "outputs": [],
   "source": [
    "t = (\"E\", \"E\") + (1, 2, 0)\n",
    "print(t)"
   ]
  },
  {
   "cell_type": "code",
   "execution_count": null,
   "metadata": {
    "collapsed": false
   },
   "outputs": [],
   "source": [
    "# cannot do assignment to a tuple after creation - it's immutable\n",
    "t[4] = 3 # will error\n",
    "\n",
    "# note: errors in ipython notebook appear \"inline\", i.e. inside the notebook itself"
   ]
  },
  {
   "cell_type": "markdown",
   "metadata": {},
   "source": [
    "### Functions\n",
    "\n",
    "Functions take in a set of arguments, and return (possibly multiple) values. Here's an example of a function that checks if a number is divisible by 3, using Python's modulus operator (`a % b` returns the remainder of dividing `a` by `b`; if the remainder is 0, then `a` is divisible by `b`):"
   ]
  },
  {
   "cell_type": "code",
   "execution_count": null,
   "metadata": {
    "collapsed": false
   },
   "outputs": [],
   "source": [
    "def is_divisible_by_3(x):\n",
    "    return x % 3 == 0\n",
    "\n",
    "print(\"6 is divisible by 3? {0}\".format(is_divisible_by_3(6)))\n",
    "print(\"8 is divisible by 3? {0}\".format(is_divisible_by_3(8)))"
   ]
  },
  {
   "cell_type": "markdown",
   "metadata": {},
   "source": [
    "You can also return multiple values from a function at once; just separate them with commas in the return statement. Similarly, to assign them to values after the function call, just separate the variables you want to assign the return values to by commas. Here's a dummy example that takes in two numbers, and returns their sum and their difference:"
   ]
  },
  {
   "cell_type": "code",
   "execution_count": null,
   "metadata": {
    "collapsed": false
   },
   "outputs": [],
   "source": [
    "def sum_and_diff(x, y):\n",
    "    return x+y, x-y\n",
    "\n",
    "a, b = sum_and_diff(3, 5)\n",
    "print(a) # 3 + 5 = 8\n",
    "print(b) # 3 - 5 = -2 "
   ]
  },
  {
   "cell_type": "markdown",
   "metadata": {},
   "source": [
    "### Numpy Array\n",
    "\n",
    "The numpy array, aka an \"ndarray\", is like a list with multidimensional support and more functions. This will be the primary data structure in our class.\n",
    "\n",
    "Arithmetic operations on NumPy arrays correspond to elementwise operations. \n",
    "\n",
    "Important NumPy Array functions:\n",
    "\n",
    "- `.shape` returns the dimensions of the array.\n",
    "\n",
    "- `.ndim` returns the number of dimensions. \n",
    "\n",
    "- `.size` returns the number of entries in the array.\n",
    "\n",
    "- `len()` returns the first dimension.\n",
    "\n",
    "\n",
    "To use functions in NumPy, we have to import NumPy to our workspace. This is done by the command `import numpy`. By convention, we rename `numpy` as `np` for convenience."
   ]
  },
  {
   "cell_type": "markdown",
   "metadata": {},
   "source": [
    "### Creating a Numpy Array"
   ]
  },
  {
   "cell_type": "code",
   "execution_count": null,
   "metadata": {
    "collapsed": false
   },
   "outputs": [],
   "source": [
    "x = np.array([[1, 2], [3 , 4]])\n",
    "print(x)"
   ]
  },
  {
   "cell_type": "markdown",
   "metadata": {},
   "source": [
    "### Getting the shape of a Numpy Array"
   ]
  },
  {
   "cell_type": "code",
   "execution_count": null,
   "metadata": {
    "collapsed": false
   },
   "outputs": [],
   "source": [
    "x.shape # returns the dimensions of the numpy array"
   ]
  },
  {
   "cell_type": "code",
   "execution_count": null,
   "metadata": {
    "collapsed": false
   },
   "outputs": [],
   "source": [
    "np.shape(x) # equivalent to x.shape"
   ]
  },
  {
   "cell_type": "markdown",
   "metadata": {},
   "source": [
    "### Elementwise operations\n",
    "\n",
    "One major advantage of using numpy arrays is that arithmetic operations on numpy arrays correspond to elementwise operations. This makes numpy amenable to vectorized implementations of algorithms, a common technique used for speeding up computer simulations than can be parallelized."
   ]
  },
  {
   "cell_type": "code",
   "execution_count": null,
   "metadata": {
    "collapsed": false
   },
   "outputs": [],
   "source": [
    "print(x)\n",
    "print()\n",
    "print(x + 2) # numpy is smart and assumes you want this to be done to all elements!"
   ]
  },
  {
   "cell_type": "markdown",
   "metadata": {},
   "source": [
    "### Matrix multiplication\n",
    "\n",
    "You can use `np.matrix` with the multiplication operator or `np.dot` to do matrix multiplication."
   ]
  },
  {
   "cell_type": "code",
   "execution_count": null,
   "metadata": {
    "collapsed": false
   },
   "outputs": [],
   "source": [
    "print(np.matrix(x) * np.matrix(x))\n",
    "print() # newline for formatting\n",
    "\n",
    "# Or\n",
    "print(np.dot(x,x))"
   ]
  },
  {
   "cell_type": "markdown",
   "metadata": {},
   "source": [
    "### Slicing numpy arrays\n",
    "\n",
    "Numpy uses pass-by-reference semantics so it creates views into the existing array, without implicit copying. This is particularly helpful with very large arrays because copying can be slow."
   ]
  },
  {
   "cell_type": "code",
   "execution_count": null,
   "metadata": {
    "collapsed": false
   },
   "outputs": [],
   "source": [
    "x = np.array([1,2,3,4,5,6])\n",
    "print(x)"
   ]
  },
  {
   "cell_type": "markdown",
   "metadata": {},
   "source": [
    "We slice an array from a to b-1 with `[a:b]`."
   ]
  },
  {
   "cell_type": "code",
   "execution_count": null,
   "metadata": {
    "collapsed": false
   },
   "outputs": [],
   "source": [
    "y = x[0:4]\n",
    "print(y)"
   ]
  },
  {
   "cell_type": "markdown",
   "metadata": {},
   "source": [
    "Because slicing does not copy the array, changing `y` changes `x`."
   ]
  },
  {
   "cell_type": "code",
   "execution_count": null,
   "metadata": {
    "collapsed": false
   },
   "outputs": [],
   "source": [
    "y[0] = 7\n",
    "print(x)\n",
    "print(y)"
   ]
  },
  {
   "cell_type": "markdown",
   "metadata": {},
   "source": [
    "To actually copy x, we should use `.copy()`. "
   ]
  },
  {
   "cell_type": "code",
   "execution_count": null,
   "metadata": {
    "collapsed": false
   },
   "outputs": [],
   "source": [
    "x = np.array([1,2,3,4,5,6])\n",
    "y = x.copy()\n",
    "y[0] = 7\n",
    "print(x)\n",
    "print(y)"
   ]
  },
  {
   "cell_type": "markdown",
   "metadata": {},
   "source": [
    "### Useful Numpy function: arange\n",
    "\n",
    "We use `arange` to create integer sequences in numpy arrays. It's exactly like the normal range function in Python, except that it automatically returns the result as a numpy array, rather than the plain vanilla Python list.\n",
    "\n",
    "`arange(0,N)` creates an array listing every integer from 0 to N-1.\n",
    "\n",
    "`arange(0,N,m)` creates an array listing every `m` th integer from 0 to N-1 ."
   ]
  },
  {
   "cell_type": "code",
   "execution_count": null,
   "metadata": {
    "collapsed": false
   },
   "outputs": [],
   "source": [
    "print(np.arange(-5,5)) # every integer from -5 ... 4"
   ]
  },
  {
   "cell_type": "code",
   "execution_count": null,
   "metadata": {
    "collapsed": false
   },
   "outputs": [],
   "source": [
    "print(np.arange(0,5,2)) # every other integer from 0 ... 4"
   ]
  },
  {
   "cell_type": "markdown",
   "metadata": {},
   "source": [
    "## Plotting"
   ]
  },
  {
   "cell_type": "markdown",
   "metadata": {},
   "source": [
    "In this class, we will use `matplotlib.pyplot` to plot signals and images. \n",
    "\n",
    "By convention, we import `matplotlib.pyplot` as `plt`.\n",
    "\n",
    "**To display the plots inside the browser, we use the command `%matplotlib inline` - do not forget this line whenever you start a new notebook.** We'll always include it for you, but in case your plots aren't showing up in the notebook when you're playing around on your own, it's probably because you forgot this. If you don't include it, Python will default to displaying it in another window on your computer, which normally is fine, but here we need the plots in the notebook so they show up in your submission PDF."
   ]
  },
  {
   "cell_type": "code",
   "execution_count": null,
   "metadata": {
    "collapsed": true
   },
   "outputs": [],
   "source": [
    "import matplotlib.pyplot as plt # by convention, we import matplotlib.pyplot as plt\n",
    "\n",
    "# plot in browser instead of opening new windows\n",
    "%matplotlib inline"
   ]
  },
  {
   "cell_type": "code",
   "execution_count": null,
   "metadata": {
    "collapsed": true
   },
   "outputs": [],
   "source": [
    "# Generate signals\n",
    "x = np.arange(0, 1, 0.001)\n",
    "y1 = np.exp(-x)                              # decaying exponential\n",
    "y2 = np.sin(2 * np.pi * 10.0 * x)/4.0 + 0.5  # 10 Hz sine wave"
   ]
  },
  {
   "cell_type": "markdown",
   "metadata": {},
   "source": [
    "### Plotting One Signal"
   ]
  },
  {
   "cell_type": "code",
   "execution_count": null,
   "metadata": {
    "collapsed": false
   },
   "outputs": [],
   "source": [
    "plt.figure()\n",
    "plt.plot(x, y1)\n",
    "plt.show()"
   ]
  },
  {
   "cell_type": "markdown",
   "metadata": {},
   "source": [
    "### Plotting Multiple Signals in One Figure"
   ]
  },
  {
   "cell_type": "code",
   "execution_count": null,
   "metadata": {
    "collapsed": false
   },
   "outputs": [],
   "source": [
    "plt.figure()\n",
    "plt.plot(x, y1)\n",
    "plt.plot(x, y2)\n",
    "plt.show()"
   ]
  },
  {
   "cell_type": "markdown",
   "metadata": {},
   "source": [
    "### Plotting multiple signals in different figures"
   ]
  },
  {
   "cell_type": "code",
   "execution_count": null,
   "metadata": {
    "collapsed": false
   },
   "outputs": [],
   "source": [
    "# figsize is the dimensions of the figure:\n",
    "# - the first argument is the width\n",
    "# - the second is height\n",
    "\n",
    "# it's useful when you want to adjust the figure's dimensions, e.g. you \n",
    "# need a huge x-axis for data taken over a long time period\n",
    "plt.figure(figsize=(16, 4))\n",
    "plt.plot(x, y1)\n",
    "\n",
    "# fancy formatting stuff - try playing with it!\n",
    "plt.title(\"Decaying Exponential\")\n",
    "plt.xlabel(\"Time\")\n",
    "plt.ylabel(\"Amplitude\")\n",
    "plt.legend([\"$e^{-x}$\"])    # LaTeX fancy formatting\n",
    "plt.xlim([0, 1])            # zoom in on x-axis \n",
    "\n",
    "\n",
    "# asking plt for a new figure before plotting will put the next call to plt.plot\n",
    "# on that new figure\n",
    "plt.figure(figsize=(16, 4)) \n",
    "plt.plot(x, y2)\n",
    "plt.title(\"10 Hz Sine Wave\")\n",
    "\n",
    "# ALWAYS make sure to call plt.show() *ONCE* after all your plotting code so your plots are displayed!\n",
    "# You only need to call it once per code cell, even if you have multiple figures.\n",
    "plt.show()"
   ]
  },
  {
   "cell_type": "markdown",
   "metadata": {},
   "source": [
    "**Make no mistake - the data points used for plotting on a computer truly always are discrete, but matplotlib's `plt.plot()` function interpolates them, giving us the continuous waveforms you see above.**"
   ]
  },
  {
   "cell_type": "markdown",
   "metadata": {},
   "source": [
    "### You can also add a title and legend with `plt.title()`, `plt.legend()` to make your plots look professional!\n",
    "\n",
    "#### Using dollar signs you can add math symbols (like Latex)!"
   ]
  },
  {
   "cell_type": "code",
   "execution_count": null,
   "metadata": {
    "collapsed": false,
    "scrolled": false
   },
   "outputs": [],
   "source": [
    "# The figsize parameter can help you shape your figure\n",
    "plt.figure(figsize=(10,7))\n",
    "plt.plot(x, y1)\n",
    "plt.plot(x, y2)\n",
    "plt.xlabel(\"x axis\")\n",
    "plt.ylabel(\"y axis\")\n",
    "plt.title(\"Title\")\n",
    "\n",
    "# You can also change the legend font size by passing in the fontsize= paramater\n",
    "plt.legend((r'$e^{-x}$', r'$\\frac{\\sin(2\\pi \\cdot 10\\cdot x)}{4}+0.5$'), fontsize=14)\n",
    "plt.show()"
   ]
  },
  {
   "cell_type": "markdown",
   "metadata": {},
   "source": [
    "You can also specify more options in `plot()`, such as color and linewidth. You can also change the axis using `plt.axis`"
   ]
  },
  {
   "cell_type": "code",
   "execution_count": null,
   "metadata": {
    "collapsed": false
   },
   "outputs": [],
   "source": [
    "plt.figure(figsize=(10,7))\n",
    "plt.plot(x, y1, \":r\", linewidth=10)\n",
    "plt.plot(x, y2, \"--k\")\n",
    "plt.xlabel(\"x axis\")\n",
    "plt.ylabel(\"y axis\")\n",
    "\n",
    "plt.title(\"Title\")\n",
    "\n",
    "plt.legend((r'$e^{-x}$', r'$\\frac{\\sin(10\\cdot x)}{4}+0.5$'), fontsize=14)\n",
    "\n",
    "# plt.axis takes in a list of the form [x_lower, x_upper, y_lower, y_upper]\n",
    "plt.axis([0, 0.5, -0.5, 1.5])\n",
    "plt.show()"
   ]
  },
  {
   "cell_type": "code",
   "execution_count": null,
   "metadata": {
    "collapsed": false
   },
   "outputs": [],
   "source": [
    "# xkcd: the Comic sans of plot styles\n",
    "with plt.xkcd():\n",
    "    plt.figure()\n",
    "    plt.plot(x, y1, 'b')\n",
    "    plt.plot(x, y2, color='orange')\n",
    "    plt.xlabel(\"x axis\")\n",
    "    plt.ylabel(\"y axis\")\n",
    "    plt.title(\"Title\")\n",
    "    plt.legend((\"blue\", \"orange\"))\n",
    "    plt.show()"
   ]
  },
  {
   "cell_type": "markdown",
   "metadata": {},
   "source": [
    "### Other Plotting Functions"
   ]
  },
  {
   "cell_type": "markdown",
   "metadata": {},
   "source": [
    "There are many other plotting functions. For example, we will use `plt.imshow()` for showing images."
   ]
  },
  {
   "cell_type": "code",
   "execution_count": null,
   "metadata": {
    "collapsed": false
   },
   "outputs": [],
   "source": [
    "image = np.outer(y1, y2) # plotting the outer product of y1 and y2\n",
    "\n",
    "plt.figure()\n",
    "plt.imshow(image)\n",
    "plt.show()"
   ]
  },
  {
   "cell_type": "markdown",
   "metadata": {},
   "source": [
    "Similarly, we use `plt.stem()` for plotting discretized signals (technically, on a computer, everything is discretized, but it's often as a result of sampling something continuous, in which case it's often more informative to plot it as a continuous signal with `plt.plot()`)."
   ]
  },
  {
   "cell_type": "code",
   "execution_count": null,
   "metadata": {
    "collapsed": false
   },
   "outputs": [],
   "source": [
    "# decaying exponential\n",
    "n = np.arange(0, 10)\n",
    "signal = np.exp(-n / 2) \n",
    "\n",
    "# stem plot on an 8-by-4 inch figure\n",
    "plt.figure(figsize=(8, 4))\n",
    "plt.stem(n, signal)\n",
    "\n",
    "# zoom out a little on both axes to get cleaner looking plot\n",
    "plt.xlim([-.5, 9.5])\n",
    "plt.ylim([0, 1.2])\n",
    "plt.show()"
   ]
  },
  {
   "cell_type": "markdown",
   "metadata": {},
   "source": [
    "# Q2: Practice with Signals\n",
    "\n",
    "Now that you're acquainted with the basics of Python and the iPython notebook environment, it's time to practice generating and plotting signals, since it's such a large part of what you'll be doing in the labs. "
   ]
  },
  {
   "cell_type": "code",
   "execution_count": null,
   "metadata": {
    "collapsed": true
   },
   "outputs": [],
   "source": [
    "import numpy as np\n",
    "import matplotlib.pyplot as plt\n",
    "%matplotlib inline"
   ]
  },
  {
   "cell_type": "markdown",
   "metadata": {},
   "source": [
    "## Signals on computers vs. pencil and paper\n",
    "\n",
    "In EE 120, we will consider two types of signals:\n",
    "- Discrete Time (DT) signals, which are functions from the integers ($\\{..., -2, -1, 0, 1, 2, ...\\}$) to the real (or complex) numbers.\n",
    "- Continuous Time (CT) signals, which are functions from the real numbers to the real (or complex) numbers.\n",
    "\n",
    "From a mathematical point of view, considering signals as functions is incredibly useful. It enables us to do all sorts of operations on them that you're already familar with, such as multiplying them by each other or taking linear combinations of them. \n",
    "\n",
    "### Interpreting time indices\n",
    "\n",
    "However, when working on a computer, there is a key limitation we must cope with: **finite memory**. We can't store a signal's value for every integer (in the DT case) or every real number (in the CT case). Instead, we represent signals as discrete arrays of some fixed length $N$. As a result, there are understood conventions in signals and systems for how to interpret the time indices associated with a signal's array representation:\n",
    "- In DT, the first value is considered to be $n=0$, and the last to be $n=N-1$, for a total of $N$ values. Since the first value you have is the start of the signal, it makes to call it time \"zero\". This is convenient, as it's the same as the array indexing convention in (most) programming languages: the first value has index 0, and the last has index in a length $N$ array is $N-1$. Outside of these $N$ values, the signal is assumed to be implicitly zero. \n",
    "- In CT, signals are first *sampled* before they go onto a computer for processing, a method we'll discuss in more detail later in the semester. Again, the first sample is considered as time zero as in the DT case, but based on the *sampling rate*, we can assign a time in seconds to each sample. For example, digital audio is typically obtained by sampling acoustic pressure on a microphone (a CT signal) at 44.1 kHz, or 44100 times a second. This means that each sample is separated by 1/44100 seconds, so our samples correspond to $t=0$ seconds (the 1st sample), $t=1/44100$ seconds (the 2nd sample), $t=2/44100$ seconds (the 3rd sample), and so on, until $t=(N-1)/44100$ seconds when the last sample is taken for $N$ total samples. Again, outside of these $N$ samples, the signal is assumed to be zero.\n",
    "\n",
    "In real world signal processing tasks, you're typically given information about where your signal came from, including whether or not it's truly DT or a sampled version of a CT signal, and if so, what the sampling rate was. In this lab, we'll only consider DT signals, with associated time indices given to you. Sometimes, you'll be asked to include some of the implicit zeros as you gain comfort with these conventions."
   ]
  },
  {
   "cell_type": "markdown",
   "metadata": {},
   "source": [
    "## Q2a: The Rectangular Signal\n",
    "\n",
    "The length $L$ rectangular signal (sometimes also called the \"rect\" for short, or, alternatively, the \"boxcar\" signal) is defined as\n",
    "\n",
    "$$r(n) = \\begin{cases}1 & n = 0, 1, 2, ..., L - 1 \\\\ 0 & \\text{otherwise}\\end{cases}$$\n",
    "\n",
    "Here's an example plot for $L = 7$, with time indices shown from -2 to 8 (so some implicit zeros are shown):\n",
    "\n",
    "![](len7rect.png)\n",
    "\n",
    "Some alternate definitions of the rect will normalize it (so that each nonzero point of the signal has height $1/L$), and some will center it around zero (although this can only be done when $L$ is odd, so that there is a center point and an equal number of nonzero signal points on each side of $n = 0$)."
   ]
  },
  {
   "cell_type": "markdown",
   "metadata": {},
   "source": [
    "### Your Job\n",
    "\n",
    "Fill in the cell below to *generate and plot* a **length 5** rectangular signal, with the time indices ranging from -2 to 8. \n",
    "\n",
    "Some quick refreshers from the content of Q1:  \n",
    "- We represent both signals and time indices as numpy arrays. For example, a length 3 rectangular signal can be constructed using the code `np.array([1, 1, 1])`, assuming you wanted to consider it for $n = 0, 1, 2$. \n",
    "- The function `np.arange` is extremely useful for generating sequences of numbers, as we often require when creating time indices for our data, as numpy arrays.\n",
    "- When calling `plt.stem(x, y)`, the number of elements in `x` must equal the number of elements in `y`. To solve this, we can pad on some of the implicit zeros in our signal, as was done in the above plot, where the zeros for $n=-2,-1,7,8$ were included.\n",
    "\n",
    "As in the plot above, label x and y axes with `plt.xlabel` and `plt.ylabel` (using $n$ and $r(n)$ respectively as was done above is fine; we just want you to get in the habit of labelling your plots). Additionally, use `plt.title` to title your plot as \"Length 5 Rectangular Signal\".\n",
    "\n",
    "**Hint:** We use `plt.stem`, not `plt.plot`, for generating \"lollipop\" plots for discrete-time signals."
   ]
  },
  {
   "cell_type": "code",
   "execution_count": null,
   "metadata": {
    "collapsed": false
   },
   "outputs": [],
   "source": [
    "# TODO: Length 5 rectangular signal code + plot for n=-2 to 8\n"
   ]
  },
  {
   "cell_type": "markdown",
   "metadata": {},
   "source": [
    "Now, fill in the cell below to *generate and plot* a **length 50** rectangular signal, with the **time indices ranging from 0 to 59**. Give your plot the title \"Length 50 Rectangular Signal\".\n",
    "\n",
    "**Hint:** It's very tedious to type out 50 ones and 10 zeros. This is a great time to practice using the functions `np.concatenate`, `np.ones`, and `np.zeros`."
   ]
  },
  {
   "cell_type": "code",
   "execution_count": null,
   "metadata": {
    "collapsed": false
   },
   "outputs": [],
   "source": [
    "# TODO: Length 50 rectangular signal code + plot for n=0 to 59\n"
   ]
  },
  {
   "cell_type": "markdown",
   "metadata": {},
   "source": [
    "Now, fill in the cell below to *generate and plot* a **length 13** rectangular signal, with the **time indices ranging from 0 to 12**. Give your plot the title \"Length 13 Rectangular Signal\". Note that the indices 0 to 12 correspond to a total of 13 time points, so no padding of the implicit zeros is necessary."
   ]
  },
  {
   "cell_type": "code",
   "execution_count": null,
   "metadata": {
    "collapsed": false
   },
   "outputs": [],
   "source": [
    "# TODO: Length 13 rectangular signal code + plot for n=0 to 12\n"
   ]
  },
  {
   "cell_type": "markdown",
   "metadata": {},
   "source": [
    "Finally, fill in the cell below to *generate and plot* a **length 13** rectangular signal, with the **time indices ranging from -10 to 10**. This time, there's a twist: instead of using the definition above as we did in the previous part, make this signal zero-cenetered, so that the signal is nonzero from -6 to 6. Give your plot the title \"Zero-Centered Length 13 Rectangular Signal\"."
   ]
  },
  {
   "cell_type": "code",
   "execution_count": null,
   "metadata": {
    "collapsed": false
   },
   "outputs": [],
   "source": [
    "# TODO: Zero-centered length 13 rectangular signal code + plot for n=-10 to 10\n"
   ]
  },
  {
   "cell_type": "markdown",
   "metadata": {},
   "source": [
    "## Q2b: The One-Sided Decaying Exponential Signal\n",
    "\n",
    "We define the rate $r$, for all real numbers $r > 0$, one-sided decaying exponential signal as \n",
    "\n",
    "$$x(n) = e^{-rn} u(n) = \\begin{cases}e^{-rn} & n = 0, 1, 2, ... \\\\ 0 & \\text{otherwise}\\end{cases}$$\n",
    "\n",
    "Again, we've adopted the convention of starting our signal at $n=0$. Specifically, this one-sided decaying exponential is said to be *right-sided* since it decays as we go to the right (in fact, since the first nonzero point is at $n=0$, we call the signal *causal*). \n",
    "\n",
    "Here's a plot of the signal for a few different values of $r$, displayed for $n=-5$ to $n=20$:\n",
    "\n",
    "![](decayingexpos.png)\n",
    "\n",
    "As we increase $r$, the signal decays to zero faster and faster. In the case of $r = 0$, we obtain the unit step, which doesn't decay at all."
   ]
  },
  {
   "cell_type": "markdown",
   "metadata": {},
   "source": [
    "### Coping with infinite duration signals: Truncation\n",
    "\n",
    "Note that for all $r > 0$, the signal has infinite duration, unlike our rectangular signal: we can pick an arbitrary $n > 0$, and $x(n)$ will be nonzero (in fact, it will be positive, since the exponential function is always positive).  \n",
    "\n",
    "This creates an issue for us, since we can't store an infinite number of signal values. Fortunately, there's an easy and well-justified solution: *truncation*. Just as calling the \"int\" function causes Python to cast floating-point numbers to integers by chopping off, or *truncating*, the decimal part of the number (e.g. `int(3.1415) = 3`, so that `.1415` is removed), we can ignore all the signal values past some point by not including them. For example, in the above plots, we truncate the signals at $n=20$, so there are only 21 nonzero points in the output. The reason this is well-justified is that for most rates that aren't too small, exponentials decay very rapidly. In the first two plots above, for $n=20$, the signal value appears to have already decayed to zero anyways! For the third, we'd simply need to use more data points (likely around 50-100) if we wanted to capture all signal values above ~.001 or so."
   ]
  },
  {
   "cell_type": "markdown",
   "metadata": {},
   "source": [
    "### Your Job\n",
    "\n",
    "Rather than recreate the same code for generating our signal several times as we did in Q2a, let's create a function for generating our one-sided decaying exponential signal. Then, we can just call the function each time we want to generate the signal! Fill in the `decaying_expo` function below, and run the cell below it to make sure you wrote it correctly.\n",
    "\n",
    "Your function should return two separate things, in this order:   \n",
    "1) The time indices.  \n",
    "2) The signal values.   \n",
    "\n",
    "If you're unsure of how to return multiple values from a Python function, you should go back to Q1.\n",
    "\n",
    "**Hint 1:** The function `np.exp` will be of use, as `np.exp(x)` computes $e^x$ for any number $x$. Recall from Q1 that numpy has been designed around *vectorization*: you can call `np.exp` (or, more generally, any numpy function that acts on numbers) on a numpy array and it will apply it element-wise! For example, `np.exp(np.array([1, .5, .25]))` would return a numpy array whose entries are $e^1, e^{.5}, e^{.25}$.\n",
    "\n",
    "**Hint 2:** Your function needs to handle two separate cases: `n_start >= 0`, and `n_start < 0`. We recommend you define two variables: one for your time indices, and one for your signal. Then, based on `n_start`, assign them the appropriate values."
   ]
  },
  {
   "cell_type": "code",
   "execution_count": null,
   "metadata": {
    "collapsed": true
   },
   "outputs": [],
   "source": [
    "def decaying_expo(rate, n_start, n_end):\n",
    "    \"\"\"\n",
    "    Returns a right-sided decaying exponential signal, truncated to the provided indices.\n",
    "    \n",
    "    Parameters:\n",
    "    rate    - The decay rate.\n",
    "    n_start - The first time index to use in generating the signal. \n",
    "    n_end   - The last time index to use in generating the signal.\n",
    "    \n",
    "    Returns:\n",
    "    n       - The time indices the signal is generated for: n_start, n_start + 1, ..., n_end.\n",
    "    sig     - The signal values for each input in n.\n",
    "    \n",
    "    If n_start is not less than n_end, a ValueError will be raised, as this specifies an empty\n",
    "    range of time indices to generate the signal over.    \n",
    "    \"\"\"\n",
    "    if n_start >= n_end:\n",
    "        raise ValueError(\"n_start must be less than n_end\")\n",
    "    \n",
    "    # TODO: YOUR CODE HERE\n",
    "    "
   ]
  },
  {
   "cell_type": "code",
   "execution_count": null,
   "metadata": {
    "collapsed": false
   },
   "outputs": [],
   "source": [
    "def run_tests():\n",
    "    num_passed = 0\n",
    "    \n",
    "    ### Index tests, non-negative n_start ###\n",
    "    test1_yours, _ = decaying_expo(.95, 0, 20)\n",
    "    test1_staff = np.arange(0, 21)\n",
    "    test1_passed = np.allclose(test1_yours, test1_staff)\n",
    "    \n",
    "    test2_yours, _ = decaying_expo(.8, 3, 20)\n",
    "    test2_staff = np.arange(3, 21)\n",
    "    test2_passed = np.allclose(test2_yours, test2_staff)\n",
    "    \n",
    "    print(\"Testing indices are correct when n_start >= 0\")\n",
    "    print(\"Test 1 Passed: {}\".format(test1_passed))\n",
    "    print(\"Test 2 Passed: {}\".format(test2_passed))\n",
    "    \n",
    "    ### Signal tests, non-negative n_start ###\n",
    "    _, test3_yours = decaying_expo(.95, 0, 20)\n",
    "    test3_staff = np.array([1.0,0.38674102345450123,0.14956861922263506,0.057844320874838484,0.0223707718561656,0.008651695203120634,0.003345965457471275,0.001294022105465849,0.0005004514334406108,0.00019354509955809418,7.48518298877006e-05,2.894827329821157e-05,1.119548484259096e-05,4.329753266092978e-06,1.674493209434269e-06,6.475952175842209e-07,2.504516372327622e-07,9.685992250925397e-08,3.7459705562952584e-08,1.4487204867720514e-08,5.602796437537268e-09])\n",
    "    test3_passed = np.allclose(test3_staff, test3_yours)\n",
    "    \n",
    "    _, test4_yours = decaying_expo(.8, 0, 20)\n",
    "    test4_staff = np.array([1.0,0.44932896411722156,0.20189651799465538,0.09071795328941247,0.04076220397836621,0.01831563888873418,0.008229747049020023,0.003697863716482929,0.001661557273173934,0.0007465858083766792,0.00033546262790251185,0.0001507330750954765,6.772873649085378e-05,3.0432483008403625e-05,1.3674196065680938e-05,6.14421235332821e-06,2.7607725720371986e-06,1.2404950799567113e-06,5.573903692694596e-07,2.504516372327617e-07,1.1253517471925912e-07])\n",
    "    test4_passed = np.allclose(test4_staff, test4_yours)\n",
    "    \n",
    "    _, test5_yours = decaying_expo(.3, 0, 20)\n",
    "    test5_staff = np.array([1.0,0.7408182206817179,0.5488116360940265,0.40656965974059917,0.30119421191220214,0.22313016014842982,0.16529888822158656,0.1224564282529819,0.09071795328941251,0.06720551273974978,0.049787068367863944,0.036883167401240015,0.02732372244729257,0.02024191144580439,0.014995576820477703,0.011108996538242306,0.00822974704902003,0.006096746565515638,0.00451658094261267,0.003345965457471272,0.0024787521766663585]) \n",
    "    test5_passed = np.allclose(test4_staff, test4_yours)\n",
    "    \n",
    "    print(\"\\nTesting signal values are correct when n_start >= 0\")\n",
    "    print(\"Test 3 Passed: {}\".format(test3_passed))\n",
    "    print(\"Test 4 Passed: {}\".format(test4_passed))\n",
    "    print(\"Test 5 Passed: {}\".format(test5_passed))\n",
    "    \n",
    "    ### Index tests, negative n_start ###\n",
    "    test6_yours, _ = decaying_expo(5, -4, 217)\n",
    "    test6_staff = np.arange(-4, 218)\n",
    "    test6_passed = np.allclose(test6_yours, test6_staff)\n",
    "    \n",
    "    test7_yours, _ = decaying_expo(np.pi, -1998, 2019)\n",
    "    test7_staff = np.arange(-1998, 2020)\n",
    "    test7_passed = np.allclose(test7_yours, test7_staff)\n",
    "    \n",
    "    print(\"\\nTesting indices are correct when n_start < 0\")\n",
    "    print(\"Test 6 Passed: {}\".format(test6_passed))\n",
    "    print(\"Test 7 Passed: {}\".format(test7_passed))\n",
    "    \n",
    "    ### Signal tests, negative n_start ###\n",
    "    _, test8_yours = decaying_expo(1, -4, 14)\n",
    "    test8_staff = np.array([0.0,0.0,0.0,0.0,1.0,0.36787944117144233,0.1353352832366127,0.049787068367863944,0.01831563888873418,0.006737946999085467,0.0024787521766663585,0.0009118819655545162,0.00033546262790251185,0.00012340980408667956,4.5399929762484854e-05,1.670170079024566e-05,6.14421235332821e-06,2.2603294069810542e-06,8.315287191035679e-07])\n",
    "    test8_passed = np.allclose(test8_staff, test8_yours)\n",
    "    \n",
    "    _, test9_yours = decaying_expo(.5, -5, 15)\n",
    "    test9_staff = np.array([0.0,0.0,0.0,0.0,0.0,1.0,0.6065306597126334,0.36787944117144233,0.22313016014842982,0.1353352832366127,0.0820849986238988,0.049787068367863944,0.0301973834223185,0.01831563888873418,0.011108996538242306,0.006737946999085467,0.004086771438464067,0.0024787521766663585,0.0015034391929775724,0.0009118819655545162,0.0005530843701478336])\n",
    "    test9_passed = np.allclose(test9_staff, test9_yours)\n",
    "    \n",
    "    _, test10_yours = decaying_expo(4, -6, 16)\n",
    "    test10_staff = np.array([0.0,0.0,0.0,0.0,0.0,0.0,1.0,0.01831563888873418,0.00033546262790251185,6.14421235332821e-06,1.1253517471925912e-07,2.061153622438558e-09,3.775134544279098e-11,6.914400106940203e-13,1.2664165549094176e-14,2.3195228302435696e-16,4.248354255291589e-18,7.781132241133797e-20,1.4251640827409352e-21,2.6102790696677047e-23,4.780892883885469e-25,8.75651076269652e-27,1.603810890548638e-28])\n",
    "    test10_passed = np.allclose(test10_staff, test10_yours)\n",
    "    \n",
    "    print(\"\\nTesting signal values are correct when n_start < 0\")\n",
    "    print(\"Test 8 Passed: {}\".format(test8_passed))\n",
    "    print(\"Test 9 Passed: {}\".format(test9_passed))\n",
    "    print(\"Test 10 Passed: {}\".format(test10_passed))\n",
    "    \n",
    "    test_results = np.array([test1_passed, test2_passed, test3_passed, test4_passed, test5_passed, \\\n",
    "                            test6_passed, test7_passed, test8_passed, test9_passed, test10_passed])\n",
    "    \n",
    "    print(\"\\n{0} out of {1} tests passed\".format(sum(test_results), 10))\n",
    "\n",
    "run_tests()"
   ]
  },
  {
   "cell_type": "markdown",
   "metadata": {},
   "source": [
    "Once all tests are passing, fill in the cell below to recreate the plot that was given to you above for the right-sided decaying exponentials. \n",
    "\n",
    "Using your shiny new and tested function, this should be pretty simple; the only work is in generating the plots. If you're unsure of how to plot multiple signals below one another, head back to the **\"Plotting multiple signals in different figures\"** section of Q1. Alternatively, if you're feeling fancy, this would be a great opportunity to try your hand at using matplotlib's [subplot](https://matplotlib.org/3.1.0/api/_as_gen/matplotlib.pyplot.subplot.html) function to generate a 3x1 grid of plots within the same figure. Either plotting method is acceptable."
   ]
  },
  {
   "cell_type": "code",
   "execution_count": null,
   "metadata": {
    "collapsed": false
   },
   "outputs": [],
   "source": [
    "# TODO your signal/time index generation here\n"
   ]
  },
  {
   "cell_type": "code",
   "execution_count": null,
   "metadata": {
    "collapsed": true
   },
   "outputs": [],
   "source": [
    "# TODO your plotting code here\n"
   ]
  },
  {
   "cell_type": "markdown",
   "metadata": {},
   "source": [
    "You can do a quick sanity check on your results by comparing to the original plot above - the two should match exactly (don't forget the plot titles)!"
   ]
  },
  {
   "cell_type": "markdown",
   "metadata": {},
   "source": [
    "# Q3: Convolution\n",
    "\n",
    "As you know, LTI systems act by convolving an input with the system's impulse response. This is why LTI systems are so nice from an analysis point of view - an LTI system is completely characterized by its impulse response, which is typically measureable to a high degree of precision in practice - just send in an impulse! \n",
    "\n",
    "From a certain point of view, EE 120 is an entire class on LTI system theory and extensions of it. So, naturally, convolution is an important operation for us, both in exploring applications in labs and understanding theoretical underpinnings in class. Accordingly, we've devoted an entire question to helping you gain familiarity with computing convolutions in Python."
   ]
  },
  {
   "cell_type": "markdown",
   "metadata": {},
   "source": [
    "## Convolution with numpy\n",
    "\n",
    "The numpy function for convolution is [np.convolve](https://docs.scipy.org/doc/numpy/reference/generated/numpy.convolve.html), which takes in three arguments:\n",
    "- `x`, a numpy array representing the signal $x(n)$.\n",
    "- `h`, a numpy array representing the signal $h(n)$. \n",
    "- `mode`, a string specifying how to truncate the convolution, if at all. \n",
    "\n",
    "It returns $y(n) = (x * h)(n)$, with some subtle differences in how the boundaries are handled based on what you pass in for `mode`. There are three options for this parameter: `full`, `same`, and `valid`. Rather than explain the differences in words, we'll go through some actual examples.  "
   ]
  },
  {
   "cell_type": "markdown",
   "metadata": {},
   "source": [
    "### `mode = \"full\"`\n",
    "\n",
    "When you set `mode` to `full`, numpy will compute the entire convolution - if $x$ is a length $M$ array and $h$ is a length $N$ array, the returned array will have length $M + N - 1$. Essentially, this mode is exactly what you've seen so far in class."
   ]
  },
  {
   "cell_type": "code",
   "execution_count": null,
   "metadata": {
    "collapsed": false
   },
   "outputs": [],
   "source": [
    "np.convolve([1/2, 1/2], [1, 1, 1], 'full')"
   ]
  },
  {
   "cell_type": "code",
   "execution_count": null,
   "metadata": {
    "collapsed": false
   },
   "outputs": [],
   "source": [
    "np.convolve([1, 2, 3], [0, 1, 0.5], 'full')"
   ]
  },
  {
   "cell_type": "markdown",
   "metadata": {},
   "source": [
    "**What makes this mode useful?** You *never* have to worry about data being cut out with `mode=\"full\"` as you do with other convolution modes, as we'll see below! So, if you're ever concerned about the cropping issue, this is always a safe bet!"
   ]
  },
  {
   "cell_type": "markdown",
   "metadata": {},
   "source": [
    "### `mode = \"same\"`\n",
    "\n",
    "This convolution mode only keeps the \"middle\" part of the result, cutting off data points from each edge until the result has the same length as the longer of the two inputs. This is the most popular convolution mode in practice - since most signals used in digital signal processing tasks are zero padded (for various reasons you'll learn about in later labs), the edges of convolutions often contain zeros, so it's okay to cut them out."
   ]
  },
  {
   "cell_type": "code",
   "execution_count": null,
   "metadata": {
    "collapsed": false
   },
   "outputs": [],
   "source": [
    "np.convolve([1/2, 1/2], [1, 1, 1], 'same')"
   ]
  },
  {
   "cell_type": "code",
   "execution_count": null,
   "metadata": {
    "collapsed": false
   },
   "outputs": [],
   "source": [
    "np.convolve([1, 2, 3], [0, 1, 0.5], 'same')"
   ]
  },
  {
   "cell_type": "markdown",
   "metadata": {},
   "source": [
    "Note how in both cases, some of our data was cut out! When you use `same`, you have to take care to ensure no data will be cut out in the result by zero-padding both sides of one of the signals. If, for the first convolution, we instead computed"
   ]
  },
  {
   "cell_type": "code",
   "execution_count": null,
   "metadata": {
    "collapsed": false
   },
   "outputs": [],
   "source": [
    "np.convolve([0, 1/2, 1/2, 0], [1, 1, 1], 'same')"
   ]
  },
  {
   "cell_type": "markdown",
   "metadata": {},
   "source": [
    "then all of our data is in tact."
   ]
  },
  {
   "cell_type": "markdown",
   "metadata": {},
   "source": [
    "**What makes this mode useful?** Using \"same\" allows you to deal with fixed size signals (i.e., all arrays are the same length) throughout your code, since a convolution in \"same\" mode of two length $L$ signals returns a length $L$ signal via cropping, and you can just zero pad to elimiate issues of data being cut out. Does that sound appealing to you? Same."
   ]
  },
  {
   "cell_type": "markdown",
   "metadata": {},
   "source": [
    "### `mode = \"valid\"`\n",
    "\n",
    "With `valid`, numpy will only keep the part of the convolution where your signals fully overlap. "
   ]
  },
  {
   "cell_type": "code",
   "execution_count": null,
   "metadata": {
    "collapsed": false
   },
   "outputs": [],
   "source": [
    "np.convolve([1/2, 1/2], [1, 1, 1], 'valid')"
   ]
  },
  {
   "cell_type": "code",
   "execution_count": null,
   "metadata": {
    "collapsed": false
   },
   "outputs": [],
   "source": [
    "np.convolve([1, 2, 3], [0, 1, 0.5], 'valid')"
   ]
  },
  {
   "cell_type": "markdown",
   "metadata": {},
   "source": [
    "For the second signal, since the signals have the same length, they only full overlap at one point in time. Thus, we get only one value in our output."
   ]
  },
  {
   "cell_type": "markdown",
   "metadata": {},
   "source": [
    "**What makes this mode useful?** It's great when you want to filter some data, but the filter only makes sense when its input is entirely the data from your signal, and no zero padded values are included. For example, if you were applying a moving average filter to stock data, it doesn't make sense to take an average that's partially stock data and partially implicit zeros."
   ]
  },
  {
   "cell_type": "markdown",
   "metadata": {},
   "source": [
    "### Final Comments on `mode` \n",
    "\n",
    "For the labs, we'll typically tell you what convolution mode to use to avoid any confusion. In practice, the \"same\" mode is the most popular, as the two signals you're convolving are typically zero-padded to the same lengths; thus the output is the same length as the two inputs, which makes preallocation of memory for your signals easier to track (since everything has the same length). \n",
    "\n",
    "We want you to be aware of these subtle differences, as they can be confusing at first. It's worth paying attention to such nuances so you don't waste time trying to fix some boundary issue. And here's the great thing about the iPython notebook environment being so interactive: if you're ever unsure of what something would do, just create a new cell and try it out!"
   ]
  },
  {
   "cell_type": "markdown",
   "metadata": {},
   "source": [
    "### Your Job\n",
    "\n",
    "Now that you've seen the basics of how `np.convolve` works, it's time to try it out on your own. Don't worry about defining or tracking any time indices at all (or doing any zero padding) for this question - just generate the signals and convolve as specified by the instructions.\n",
    "\n",
    "**Make sure you use `plt.stem` for all plots in this question, so the results are displayed as DT signals.** No need to do anything fancy with your plots either (e.g. labelling axes, etc.) beyond what you're asked for - just passing the signal straight into `plt.stem` and adding whatever title the question specifies is fine."
   ]
  },
  {
   "cell_type": "markdown",
   "metadata": {},
   "source": [
    "## Q3a: Get Rect\n",
    "\n",
    "First, convolve a length 3 rect with a length 3 rect and plot it. Use \"full\" mode. Title it \"Convolution of two length 3 rects\"."
   ]
  },
  {
   "cell_type": "code",
   "execution_count": null,
   "metadata": {
    "collapsed": false
   },
   "outputs": [],
   "source": [
    "# TODO: convolution of two length 3 rects (mode=\"full\")\n"
   ]
  },
  {
   "cell_type": "markdown",
   "metadata": {},
   "source": [
    "Now, convolve a length 10 rect with a length 10 rect and plot it, again in \"full\" mode. Title it \"Convolution of two length 10 rects\"."
   ]
  },
  {
   "cell_type": "code",
   "execution_count": null,
   "metadata": {
    "collapsed": false
   },
   "outputs": [],
   "source": [
    "# TODO: convolution of two length 10 rects (mode=\"full\")\n"
   ]
  },
  {
   "cell_type": "markdown",
   "metadata": {},
   "source": [
    "Finally, convolve a length 50 rect with a length 50 rect and plot it, again in \"full\" mode. Title it \"Convolution of two length 50 rects\"."
   ]
  },
  {
   "cell_type": "code",
   "execution_count": null,
   "metadata": {
    "collapsed": false
   },
   "outputs": [],
   "source": [
    "# TODO: convolution of two length 50 rects (mode=\"full\")\n"
   ]
  },
  {
   "cell_type": "markdown",
   "metadata": {},
   "source": [
    "**Q:** In general, what shape is the convolution of two rects *of the same length*? A one-word answer is fine."
   ]
  },
  {
   "cell_type": "markdown",
   "metadata": {},
   "source": [
    "<span style=\"color:blue\">**A:** (TODO - Double click me and type your answer here!)  </span>"
   ]
  },
  {
   "cell_type": "markdown",
   "metadata": {},
   "source": [
    "## Q3b: Get Rect, Part II\n",
    "\n",
    "Now, we'll convolve rects that have *different* lengths and see what happens. \n",
    "\n",
    "**For this part, perform all convolutions in \"full\" mode, so you don't have to worry about signal values being cut out and can focus on the results.** As a consequence, it's perfectly fine to not zero-pad any of your signals pre-convolution. Remember, \"full\" mode doesn't cut anything out. For example, if you were asked to convolve a length 2 rect with a length 4 rect, it's fine to use `np.array([1, 1])` and `np.array([1, 1, 1, 1])`, respectively, as the numpy array representations of your signals.\n",
    "\n",
    "**For all parts of this question, plot the convolution result, and give your plot a reasonable title.**"
   ]
  },
  {
   "cell_type": "markdown",
   "metadata": {},
   "source": [
    "Start by convolving a length 2 rect with a length 5 rect."
   ]
  },
  {
   "cell_type": "code",
   "execution_count": null,
   "metadata": {
    "collapsed": false
   },
   "outputs": [],
   "source": [
    "# TODO: convolve and plot length 2 and length 5 rect\n"
   ]
  },
  {
   "cell_type": "markdown",
   "metadata": {},
   "source": [
    "Now, convolve a length 10 and length 20 rect."
   ]
  },
  {
   "cell_type": "code",
   "execution_count": null,
   "metadata": {
    "collapsed": false
   },
   "outputs": [],
   "source": [
    "# TODO: convolve and plot length 10 and length 20 rect\n"
   ]
  },
  {
   "cell_type": "markdown",
   "metadata": {},
   "source": [
    "Finally, convolve a length 60 and length 20 rect."
   ]
  },
  {
   "cell_type": "code",
   "execution_count": null,
   "metadata": {
    "collapsed": false
   },
   "outputs": [],
   "source": [
    "# TODO: convolve and plot length 60 and length 20 rect\n"
   ]
  },
  {
   "cell_type": "markdown",
   "metadata": {},
   "source": [
    "**Q:** In general, the convolution of two rects of different lengths is a trapezoid, which you should see from your plots. We'll define the length of the trapezoid's top as the number of points for which it attains its maximum value. For example, the length of a triangle's top is 1, since it peaks at one data point and slopes downward on either side of the peak. \n",
    "\n",
    "Which trapezoid would you expect to have a longer top: one obtained by convolving a length 10 rect and length 20 rect, or one obtained by convolving a length 15 rect and length 20 rect? Explain why in 1-2 sentences. "
   ]
  },
  {
   "cell_type": "markdown",
   "metadata": {},
   "source": [
    "<span style=\"color:blue\">**A:** (TODO) </span>"
   ]
  },
  {
   "cell_type": "markdown",
   "metadata": {},
   "source": [
    "## Q3c: Get Rect, The Grand Finale\n",
    "\n",
    "We saw in Q1a what happens when you convolve two rects that have the same length together. But what if we convolve 3 togther (by convolving two, then convolving the result with a third)? What about 4? 5? 10? 100? The result might surprise you. \n",
    "\n",
    "In doing so, to make sure the convolution results don't blow up to infinity, we'll normalize our rects to sum to 1. An interesting fact that you'll prove later in the semester is that if you convolve two signals that both sum to 1, the result also sums to 1. We'll use length two rects here, although you'll get a similar result if you use a larger size, or even if you vary the size of rects you convolve (e.g., you convolve with a length 2, then a length 3, then a length 7, then a length 2 again, and so on), so long as the total number of convolutions performed is large.\n",
    "\n",
    "You don't have to write any code for this question; just run the cells."
   ]
  },
  {
   "cell_type": "markdown",
   "metadata": {},
   "source": [
    "Let's see what happens when we convolve 2, 3, and 4 rects together."
   ]
  },
  {
   "cell_type": "code",
   "execution_count": null,
   "metadata": {
    "collapsed": false
   },
   "outputs": [],
   "source": [
    "x = np.array([1/2, 1/2])\n",
    "\n",
    "plt.figure(figsize=(20, 4))\n",
    "plt.subplot(1, 4, 1)\n",
    "x = np.convolve(x, x, \"full\")\n",
    "plt.stem(x)\n",
    "plt.title(\"Convolution of 2 length two rects\")\n",
    "\n",
    "plt.subplot(1, 4, 2)\n",
    "x = np.convolve(x, x, \"full\")\n",
    "plt.stem(x)\n",
    "plt.title(\"Convolution of 3 length two rects\")\n",
    "\n",
    "plt.subplot(1, 4, 3)\n",
    "x = np.convolve(x, x, \"full\")\n",
    "plt.stem(x)\n",
    "plt.title(\"Convolution of 4 length two rects\")\n",
    "\n",
    "plt.subplot(1, 4, 4)\n",
    "x = np.convolve(x, x, \"full\")\n",
    "plt.stem(x)\n",
    "plt.title(\"Convolution of 5 length two rects\")\n",
    "plt.show()"
   ]
  },
  {
   "cell_type": "markdown",
   "metadata": {},
   "source": [
    "We can see the results getting smoother and smoother each time, in addition to the stretching that naturally occurs as a result of convolution. Perhaps you already have some intuition for what will happen if we keep doing this over and over again. Through a very cool feature of matplotlib, we can repeatedly convolve our rects together and update the same plot, seeing how the result \"evolves\". Run the cell below to convolve 100 rects together, displaying the result after each convolution. "
   ]
  },
  {
   "cell_type": "code",
   "execution_count": null,
   "metadata": {
    "collapsed": false
   },
   "outputs": [],
   "source": [
    "from IPython import display\n",
    "\n",
    "numconv = 100 # change this to the number of convolutions you want to do\n",
    "rect = np.array([1/2, 1/2])\n",
    "y = np.convolve(rect, rect, \"full\")\n",
    "for i in range(1, numconv+1):\n",
    "    y = np.convolve(y, rect, \"full\")\n",
    "    plt.clf()\n",
    "    plt.stem(y)\n",
    "    plt.title(\"Convolution of {} Length Two Rects\".format(i))\n",
    "    display.clear_output(wait=True)\n",
    "    display.display(plt.gcf())"
   ]
  },
  {
   "cell_type": "markdown",
   "metadata": {},
   "source": [
    "As we continue to convolve more and more rects together, we end up with a bell curve! So, if we wanted to apply a large number of filters that all had rectangular impulse responses (such as in the case of a moving average filter, for example), we could equivalently apply a *Gaussian filter*, i.e. one with a Gaussian (bell curve) as its impulse response. The Gaussian filter shows up in a wide variety of signal processing contexts for smoothing, and as you've seen here, it's the limiting case of applying a large number of rectangular filters (i.e., moving averages)."
   ]
  },
  {
   "cell_type": "markdown",
   "metadata": {},
   "source": [
    "## Optional reading: A probability theoretic view of Q3c\n",
    "\n",
    "Believe it or not, it's no coincidence that we got a Gaussian-like signal by convolving a large number of rects. This is actually a consequence of one of the most celebrated results in probability theory, the [Central Limit Theorem](https://en.wikipedia.org/wiki/Central_limit_theorem). This theorem says that, under certain conditions, as you add together more and more random variables, the result approaches a Gaussian distribution, i.e. the familiar bell curve. An interesting fact covered in EECS 126 is that if you add two independent random variables, the resultant distribution is the **convolution** of the summands' distributions. Thus, by convolving 100 rects together, we are effectively adding together 100 independent uniform random variables (the probability mass function of a uniform r.v. is a rectangle, since each value is equally probable), and we see that the result has a Gaussian distribution!\n",
    "\n",
    "**Note:** We don't expect to you to know any probability theory for this class. If the preceding paragraph made no sense at all, don't worry about it. There are some interesting connections between signal processing and probability theory that will be mentioned from time to time in the labs for your enrichment, but you're not responsible for understanding any of their content."
   ]
  },
  {
   "cell_type": "markdown",
   "metadata": {},
   "source": [
    "# References\n",
    "[1] The official Python 3 language documentation. [Link](https://docs.python.org/3/).  \n",
    "[2] The official numpy and scipy documentation. [Link](https://docs.scipy.org/doc/).  \n",
    "[3] The official matplotlib documentation. [Link](https://matplotlib.org/contents.html)  \n",
    "\n",
    "Special thanks to the [Berkeley Python Bootcamp 2013](https://github.com/profjsb/python-bootcamp), [Python for Signal Processing](http://link.springer.com/book/10.1007%2F978-3-319-01342-8), [EE 123](https://inst.eecs.berkeley.edu/~ee123/sp18/lab/lab0/python_tutorial.ipynb) and and [EECS 126](https://inst.eecs.berkeley.edu/~ee126/sp18/LAB01.zip) for providing a great starting point for Q1, Introduction to the Python Scientific Computing Stack.  "
   ]
  }
 ],
 "metadata": {
  "anaconda-cloud": {},
  "kernelspec": {
   "display_name": "Python [Root]",
   "language": "python",
   "name": "Python [Root]"
  },
  "language_info": {
   "codemirror_mode": {
    "name": "ipython",
    "version": 3
   },
   "file_extension": ".py",
   "mimetype": "text/x-python",
   "name": "python",
   "nbconvert_exporter": "python",
   "pygments_lexer": "ipython3",
   "version": "3.5.6"
  }
 },
 "nbformat": 4,
 "nbformat_minor": 1
}
